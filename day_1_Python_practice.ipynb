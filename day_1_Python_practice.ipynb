{
 "cells": [
  {
   "cell_type": "code",
   "execution_count": 1,
   "id": "583c8386",
   "metadata": {},
   "outputs": [],
   "source": [
    "My_tuple = (3, 5, 7, 8)"
   ]
  },
  {
   "cell_type": "code",
   "execution_count": 3,
   "id": "90ae95e1",
   "metadata": {},
   "outputs": [],
   "source": [
    "My_dictionary = {'name': 'Bob', 'age': 30, 'occupation': 'Farmer'}"
   ]
  },
  {
   "cell_type": "code",
   "execution_count": 4,
   "id": "2aa00b9e",
   "metadata": {},
   "outputs": [
    {
     "data": {
      "text/plain": [
       "'Bob'"
      ]
     },
     "execution_count": 4,
     "metadata": {},
     "output_type": "execute_result"
    }
   ],
   "source": [
    "My_dictionary['name']"
   ]
  },
  {
   "cell_type": "markdown",
   "id": "b31b852a",
   "metadata": {},
   "source": [
    "Perhaps he needs to update his name to his full name"
   ]
  },
  {
   "cell_type": "code",
   "execution_count": 5,
   "id": "9836eb05",
   "metadata": {},
   "outputs": [],
   "source": [
    "My_dictionary['name'] = 'Robert'"
   ]
  },
  {
   "cell_type": "code",
   "execution_count": 6,
   "id": "8384050e",
   "metadata": {},
   "outputs": [
    {
     "name": "stdout",
     "output_type": "stream",
     "text": [
      "{'name': 'Robert', 'age': 30, 'occupation': 'Farmer'}\n"
     ]
    }
   ],
   "source": [
    "print(My_dictionary)"
   ]
  },
  {
   "cell_type": "code",
   "execution_count": 7,
   "id": "8c805b89",
   "metadata": {},
   "outputs": [],
   "source": [
    "My_dictionary['occupation'] = 'Banker'"
   ]
  },
  {
   "cell_type": "code",
   "execution_count": 8,
   "id": "784d5f3e",
   "metadata": {},
   "outputs": [
    {
     "name": "stdout",
     "output_type": "stream",
     "text": [
      "{'name': 'Robert', 'age': 30, 'occupation': 'Banker'}\n"
     ]
    }
   ],
   "source": [
    "print(My_dictionary)"
   ]
  },
  {
   "cell_type": "code",
   "execution_count": 10,
   "id": "e989a388",
   "metadata": {},
   "outputs": [],
   "source": [
    "My_list =  [2, 7.9, 3, 'sdfsdf',1.67]"
   ]
  },
  {
   "cell_type": "code",
   "execution_count": 14,
   "id": "b14f313b",
   "metadata": {},
   "outputs": [
    {
     "data": {
      "text/plain": [
       "[7.9, 3, 'sdfsdf']"
      ]
     },
     "execution_count": 14,
     "metadata": {},
     "output_type": "execute_result"
    }
   ],
   "source": [
    "My_list[1:4]"
   ]
  },
  {
   "cell_type": "code",
   "execution_count": 16,
   "id": "2102ec7d",
   "metadata": {},
   "outputs": [
    {
     "data": {
      "text/plain": [
       "1.67"
      ]
     },
     "execution_count": 16,
     "metadata": {},
     "output_type": "execute_result"
    }
   ],
   "source": [
    "My_list[4]"
   ]
  },
  {
   "cell_type": "code",
   "execution_count": 18,
   "id": "6dc1316a",
   "metadata": {},
   "outputs": [
    {
     "name": "stdout",
     "output_type": "stream",
     "text": [
      "2\n",
      "7.9\n",
      "3\n",
      "sdfsdf\n",
      "1.67\n"
     ]
    }
   ],
   "source": [
    "for blah in My_list:\n",
    "    print(blah)"
   ]
  },
  {
   "cell_type": "code",
   "execution_count": 19,
   "id": "48e76ad4",
   "metadata": {},
   "outputs": [
    {
     "name": "stdout",
     "output_type": "stream",
     "text": [
      "2\n",
      "7.9\n",
      "3\n",
      "sdfsdf\n",
      "1.67\n"
     ]
    }
   ],
   "source": [
    "for i in My_list:\n",
    "    print(i)"
   ]
  },
  {
   "cell_type": "code",
   "execution_count": 31,
   "id": "c3f36466",
   "metadata": {},
   "outputs": [
    {
     "name": "stdout",
     "output_type": "stream",
     "text": [
      "7\n",
      "8\n",
      "9\n",
      "10\n"
     ]
    }
   ],
   "source": [
    "for i in range(7,11):\n",
    "    print(i)"
   ]
  },
  {
   "cell_type": "code",
   "execution_count": 34,
   "id": "51393593",
   "metadata": {},
   "outputs": [
    {
     "name": "stdout",
     "output_type": "stream",
     "text": [
      "0\n",
      "1\n",
      "2\n",
      "3\n"
     ]
    }
   ],
   "source": [
    "for i in range(4):\n",
    "    print(i)"
   ]
  },
  {
   "cell_type": "code",
   "execution_count": 33,
   "id": "8a382ded",
   "metadata": {},
   "outputs": [
    {
     "name": "stdout",
     "output_type": "stream",
     "text": [
      "2\n",
      "7.9\n",
      "3\n",
      "sdfsdf\n",
      "1.67\n"
     ]
    }
   ],
   "source": [
    "for i in range(5):\n",
    "    print(My_list[i])"
   ]
  },
  {
   "cell_type": "code",
   "execution_count": 36,
   "id": "c34a8913",
   "metadata": {},
   "outputs": [],
   "source": [
    "My_set = {1,  2, 3, 'dsfsdf', 3.6}"
   ]
  },
  {
   "cell_type": "code",
   "execution_count": 39,
   "id": "79d10ae8",
   "metadata": {},
   "outputs": [
    {
     "ename": "TypeError",
     "evalue": "'set' object is not subscriptable",
     "output_type": "error",
     "traceback": [
      "\u001b[1;31m---------------------------------------------------------------------------\u001b[0m",
      "\u001b[1;31mTypeError\u001b[0m                                 Traceback (most recent call last)",
      "Cell \u001b[1;32mIn[39], line 1\u001b[0m\n\u001b[1;32m----> 1\u001b[0m \u001b[43mMy_set\u001b[49m\u001b[43m[\u001b[49m\u001b[38;5;241;43m2\u001b[39;49m\u001b[43m]\u001b[49m\n",
      "\u001b[1;31mTypeError\u001b[0m: 'set' object is not subscriptable"
     ]
    }
   ],
   "source": [
    "My_set[0]"
   ]
  },
  {
   "cell_type": "code",
   "execution_count": 40,
   "id": "19c3420b",
   "metadata": {},
   "outputs": [
    {
     "data": {
      "text/plain": [
       "5"
      ]
     },
     "execution_count": 40,
     "metadata": {},
     "output_type": "execute_result"
    }
   ],
   "source": [
    "len(My_set)"
   ]
  },
  {
   "cell_type": "code",
   "execution_count": 41,
   "id": "ce84e286",
   "metadata": {},
   "outputs": [],
   "source": [
    "My_set.add('happy')"
   ]
  },
  {
   "cell_type": "code",
   "execution_count": 42,
   "id": "344241b9",
   "metadata": {},
   "outputs": [
    {
     "name": "stdout",
     "output_type": "stream",
     "text": [
      "{1, 2, 3, 3.6, 'happy', 'dsfsdf'}\n"
     ]
    }
   ],
   "source": [
    "print(My_set)"
   ]
  },
  {
   "cell_type": "code",
   "execution_count": 43,
   "id": "6dc4503b",
   "metadata": {},
   "outputs": [],
   "source": [
    "My_set.add('aaa')"
   ]
  },
  {
   "cell_type": "code",
   "execution_count": 44,
   "id": "a2a7983b",
   "metadata": {},
   "outputs": [
    {
     "name": "stdout",
     "output_type": "stream",
     "text": [
      "{1, 2, 3, 3.6, 'aaa', 'happy', 'dsfsdf'}\n"
     ]
    }
   ],
   "source": [
    "print(My_set)"
   ]
  },
  {
   "cell_type": "code",
   "execution_count": 45,
   "id": "78cf10d4",
   "metadata": {},
   "outputs": [],
   "source": [
    "My_set.add('zzz')"
   ]
  },
  {
   "cell_type": "code",
   "execution_count": 46,
   "id": "c48bb803",
   "metadata": {},
   "outputs": [
    {
     "name": "stdout",
     "output_type": "stream",
     "text": [
      "{1, 2, 3, 3.6, 'aaa', 'zzz', 'happy', 'dsfsdf'}\n"
     ]
    }
   ],
   "source": [
    "print(My_set)"
   ]
  },
  {
   "cell_type": "code",
   "execution_count": 47,
   "id": "0e139204",
   "metadata": {},
   "outputs": [],
   "source": [
    "My_set.add('zz')"
   ]
  },
  {
   "cell_type": "code",
   "execution_count": 48,
   "id": "2cd1282a",
   "metadata": {},
   "outputs": [
    {
     "name": "stdout",
     "output_type": "stream",
     "text": [
      "{1, 2, 3, 3.6, 'happy', 'zz', 'aaa', 'dsfsdf', 'zzz'}\n"
     ]
    }
   ],
   "source": [
    "print(My_set)"
   ]
  },
  {
   "cell_type": "code",
   "execution_count": 53,
   "id": "2001161e",
   "metadata": {},
   "outputs": [],
   "source": [
    "New_set = {1,2,2,1000,1000}"
   ]
  },
  {
   "cell_type": "code",
   "execution_count": 54,
   "id": "8c4ce492",
   "metadata": {},
   "outputs": [
    {
     "data": {
      "text/plain": [
       "{1, 1000, 2, 3, 3.6, 'aaa', 'dsfsdf', 'happy', 'zz', 'zzz'}"
      ]
     },
     "execution_count": 54,
     "metadata": {},
     "output_type": "execute_result"
    }
   ],
   "source": [
    "My_set.union(New_set)"
   ]
  },
  {
   "cell_type": "code",
   "execution_count": 55,
   "id": "26557698",
   "metadata": {},
   "outputs": [
    {
     "data": {
      "text/plain": [
       "{1, 2}"
      ]
     },
     "execution_count": 55,
     "metadata": {},
     "output_type": "execute_result"
    }
   ],
   "source": [
    "My_set.intersection(New_set)"
   ]
  },
  {
   "cell_type": "code",
   "execution_count": 56,
   "id": "1e655ebd",
   "metadata": {},
   "outputs": [
    {
     "data": {
      "text/plain": [
       "{3, 3.6, 'aaa', 'dsfsdf', 'happy', 'zz', 'zzz'}"
      ]
     },
     "execution_count": 56,
     "metadata": {},
     "output_type": "execute_result"
    }
   ],
   "source": [
    "My_set.difference(New_set)"
   ]
  },
  {
   "cell_type": "code",
   "execution_count": 57,
   "id": "f08d8690",
   "metadata": {},
   "outputs": [],
   "source": [
    "some_string = 'sdfsadfsadfsdfsdfsdf'"
   ]
  },
  {
   "cell_type": "code",
   "execution_count": 58,
   "id": "9db93880",
   "metadata": {},
   "outputs": [
    {
     "data": {
      "text/plain": [
       "'dfsad'"
      ]
     },
     "execution_count": 58,
     "metadata": {},
     "output_type": "execute_result"
    }
   ],
   "source": [
    "some_string[5:10]"
   ]
  },
  {
   "cell_type": "code",
   "execution_count": 61,
   "id": "44b2c45c",
   "metadata": {},
   "outputs": [
    {
     "name": "stdout",
     "output_type": "stream",
     "text": [
      "sdfsa\n",
      "0\n",
      "dfsa\n",
      "1\n",
      "fsa\n",
      "2\n",
      "sa\n",
      "3\n",
      "a\n",
      "4\n"
     ]
    }
   ],
   "source": [
    "counter = 0\n",
    "\n",
    "while counter <= 4:\n",
    "    print(some_string[counter:5])\n",
    "    print(counter)\n",
    "    counter = counter + 1"
   ]
  },
  {
   "cell_type": "code",
   "execution_count": 64,
   "id": "9d6bbdd1",
   "metadata": {},
   "outputs": [
    {
     "name": "stdout",
     "output_type": "stream",
     "text": [
      "medium\n"
     ]
    }
   ],
   "source": [
    "if len(some_string) < 20:\n",
    "    print('small')\n",
    "elif len(some_string) < 30:\n",
    "    print('medium')\n",
    "else:\n",
    "    print('large')"
   ]
  },
  {
   "cell_type": "code",
   "execution_count": 65,
   "id": "f0ea600d",
   "metadata": {},
   "outputs": [
    {
     "data": {
      "text/plain": [
       "20"
      ]
     },
     "execution_count": 65,
     "metadata": {},
     "output_type": "execute_result"
    }
   ],
   "source": []
  },
  {
   "cell_type": "code",
   "execution_count": null,
   "id": "bbd82146",
   "metadata": {},
   "outputs": [],
   "source": []
  }
 ],
 "metadata": {
  "kernelspec": {
   "display_name": "Python 3 (ipykernel)",
   "language": "python",
   "name": "python3"
  },
  "language_info": {
   "codemirror_mode": {
    "name": "ipython",
    "version": 3
   },
   "file_extension": ".py",
   "mimetype": "text/x-python",
   "name": "python",
   "nbconvert_exporter": "python",
   "pygments_lexer": "ipython3",
   "version": "3.11.4"
  }
 },
 "nbformat": 4,
 "nbformat_minor": 5
}
